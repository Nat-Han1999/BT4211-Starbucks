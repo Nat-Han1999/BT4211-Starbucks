{
 "cells": [
  {
   "cell_type": "markdown",
   "metadata": {},
   "source": [
    "#### Get data"
   ]
  },
  {
   "cell_type": "code",
   "execution_count": 91,
   "metadata": {},
   "outputs": [],
   "source": [
    "import pandas as pd\n",
    "import numpy as np\n",
    "import matplotlib.pyplot as plt\n",
    "import warnings\n",
    "warnings.filterwarnings('ignore')\n",
    "import seaborn as sns\n",
    "from sklearn import preprocessing\n",
    "from sklearn.linear_model import LogisticRegression\n",
    "from sklearn.model_selection import train_test_split\n",
    "from sklearn.feature_selection import RFE\n",
    "\n",
    "import statsmodels.api as sm"
   ]
  },
  {
   "cell_type": "code",
   "execution_count": 92,
   "metadata": {},
   "outputs": [],
   "source": [
    "input_file = \"reg_combined_df.csv\"\n",
    "full_data_raw = pd.read_csv(input_file, index_col=0)\n",
    "full_data = full_data_raw.copy()"
   ]
  },
  {
   "cell_type": "code",
   "execution_count": 93,
   "metadata": {},
   "outputs": [],
   "source": [
    "# Obtain income data by number of thousands\n",
    "full_data[\"income\"] = full_data[\"income\"] / 1000\n",
    "full_data = full_data.rename(columns={\"income\": \"income_k\"})\n",
    "\n",
    "# Obtain time_since_last_txn in terms of days\n",
    "full_data[\"time_since_last_txn\"] = round((full_data[\"time_since_last_txn\"] / 24), 2)"
   ]
  },
  {
   "cell_type": "markdown",
   "metadata": {},
   "source": [
    "#### Check & Split data"
   ]
  },
  {
   "cell_type": "code",
   "execution_count": 94,
   "metadata": {},
   "outputs": [],
   "source": [
    "# Check differences in values for numeric columns between the 2 responses (0/1)\n",
    "def check_num_cols_mean(data):\n",
    "    numeric_cols_df = data.select_dtypes('number')\n",
    "    return numeric_cols_df.groupby(\"offer_completed\").mean().round(2)"
   ]
  },
  {
   "cell_type": "code",
   "execution_count": 95,
   "metadata": {},
   "outputs": [
    {
     "data": {
      "text/html": [
       "<div>\n",
       "<style scoped>\n",
       "    .dataframe tbody tr th:only-of-type {\n",
       "        vertical-align: middle;\n",
       "    }\n",
       "\n",
       "    .dataframe tbody tr th {\n",
       "        vertical-align: top;\n",
       "    }\n",
       "\n",
       "    .dataframe thead th {\n",
       "        text-align: right;\n",
       "    }\n",
       "</style>\n",
       "<table border=\"1\" class=\"dataframe\">\n",
       "  <thead>\n",
       "    <tr style=\"text-align: right;\">\n",
       "      <th></th>\n",
       "      <th>age</th>\n",
       "      <th>income_k</th>\n",
       "      <th>reward</th>\n",
       "      <th>difficulty</th>\n",
       "      <th>duration</th>\n",
       "      <th>num_channels</th>\n",
       "      <th>used_email</th>\n",
       "      <th>used_web</th>\n",
       "      <th>used_social</th>\n",
       "      <th>used_mobile</th>\n",
       "      <th>offer_viewed</th>\n",
       "      <th>received_time</th>\n",
       "      <th>time_since_last_txn</th>\n",
       "      <th>last_txn_amt</th>\n",
       "      <th>ave_txn_amt</th>\n",
       "      <th>num_txn_past_week</th>\n",
       "      <th>num_offers_past_week</th>\n",
       "    </tr>\n",
       "    <tr>\n",
       "      <th>offer_completed</th>\n",
       "      <th></th>\n",
       "      <th></th>\n",
       "      <th></th>\n",
       "      <th></th>\n",
       "      <th></th>\n",
       "      <th></th>\n",
       "      <th></th>\n",
       "      <th></th>\n",
       "      <th></th>\n",
       "      <th></th>\n",
       "      <th></th>\n",
       "      <th></th>\n",
       "      <th></th>\n",
       "      <th></th>\n",
       "      <th></th>\n",
       "      <th></th>\n",
       "      <th></th>\n",
       "    </tr>\n",
       "  </thead>\n",
       "  <tbody>\n",
       "    <tr>\n",
       "      <th>0</th>\n",
       "      <td>52.98</td>\n",
       "      <td>61.50</td>\n",
       "      <td>3.48</td>\n",
       "      <td>6.19</td>\n",
       "      <td>5.73</td>\n",
       "      <td>3.17</td>\n",
       "      <td>1.0</td>\n",
       "      <td>0.72</td>\n",
       "      <td>0.55</td>\n",
       "      <td>0.9</td>\n",
       "      <td>0.65</td>\n",
       "      <td>327.15</td>\n",
       "      <td>11.26</td>\n",
       "      <td>8.13</td>\n",
       "      <td>8.01</td>\n",
       "      <td>1.50</td>\n",
       "      <td>0.86</td>\n",
       "    </tr>\n",
       "    <tr>\n",
       "      <th>1</th>\n",
       "      <td>55.83</td>\n",
       "      <td>69.43</td>\n",
       "      <td>4.95</td>\n",
       "      <td>9.31</td>\n",
       "      <td>7.32</td>\n",
       "      <td>3.43</td>\n",
       "      <td>1.0</td>\n",
       "      <td>0.89</td>\n",
       "      <td>0.65</td>\n",
       "      <td>0.9</td>\n",
       "      <td>0.82</td>\n",
       "      <td>338.34</td>\n",
       "      <td>8.56</td>\n",
       "      <td>14.29</td>\n",
       "      <td>14.26</td>\n",
       "      <td>1.88</td>\n",
       "      <td>0.89</td>\n",
       "    </tr>\n",
       "  </tbody>\n",
       "</table>\n",
       "</div>"
      ],
      "text/plain": [
       "                   age  income_k  reward  difficulty  duration  num_channels  \\\n",
       "offer_completed                                                                \n",
       "0                52.98     61.50    3.48        6.19      5.73          3.17   \n",
       "1                55.83     69.43    4.95        9.31      7.32          3.43   \n",
       "\n",
       "                 used_email  used_web  used_social  used_mobile  offer_viewed  \\\n",
       "offer_completed                                                                 \n",
       "0                       1.0      0.72         0.55          0.9          0.65   \n",
       "1                       1.0      0.89         0.65          0.9          0.82   \n",
       "\n",
       "                 received_time  time_since_last_txn  last_txn_amt  \\\n",
       "offer_completed                                                     \n",
       "0                       327.15                11.26          8.13   \n",
       "1                       338.34                 8.56         14.29   \n",
       "\n",
       "                 ave_txn_amt  num_txn_past_week  num_offers_past_week  \n",
       "offer_completed                                                        \n",
       "0                       8.01               1.50                  0.86  \n",
       "1                      14.26               1.88                  0.89  "
      ]
     },
     "execution_count": 95,
     "metadata": {},
     "output_type": "execute_result"
    }
   ],
   "source": [
    "check_num_cols_mean(full_data)"
   ]
  },
  {
   "cell_type": "code",
   "execution_count": 96,
   "metadata": {},
   "outputs": [],
   "source": [
    "def plot_cat_count_distribution(data, col):\n",
    "    count_df = data.groupby([\"offer_completed\", col])[col].value_counts().reset_index(name=\"count\")\n",
    "    plt.figure(figsize=(6,4))\n",
    "    sns.barplot(data=count_df, x=\"count\", y=col, hue=\"offer_completed\")\n",
    "    plt.show()\n",
    "\n",
    "# Only checks for gender and offer_type categorical variables\n",
    "def check_cat_cols_distribution(data):\n",
    "    cat_cols = data.select_dtypes('object').columns.to_list() + [\"offer_completed\"]\n",
    "    cat_cols_df = data[cat_cols]\n",
    "    plot_cat_count_distribution(cat_cols_df, \"gender\")\n",
    "    plot_cat_count_distribution(cat_cols_df, \"offer_type\")"
   ]
  },
  {
   "cell_type": "code",
   "execution_count": 97,
   "metadata": {},
   "outputs": [
    {
     "data": {
      "image/png": "[encoded data removed]",
      "text/plain": [
       "<Figure size 600x400 with 1 Axes>"
      ]
     },
     "metadata": {},
     "output_type": "display_data"
    },
    {
     "data": {
      "image/png": "[encoded data removed]",
      "text/plain": [
       "<Figure size 600x400 with 1 Axes>"
      ]
     },
     "metadata": {},
     "output_type": "display_data"
    }
   ],
   "source": [
    "check_cat_cols_distribution(full_data)"
   ]
  },
  {
   "cell_type": "markdown",
   "metadata": {},
   "source": [
    "- Given that all informational offers were not completed, it could be an indication that this offer type was not meant to be completed.\n",
    "- As such, all offer records with \"informational\" offer_type will be removed from the regression dataset. "
   ]
  },
  {
   "cell_type": "code",
   "execution_count": 98,
   "metadata": {},
   "outputs": [],
   "source": [
    "# Remove offer records with \"informational\" offer_type\n",
    "full_data_rm_info = full_data.copy()[full_data[\"offer_type\"] != \"informational\"].reset_index(drop=True)"
   ]
  },
  {
   "cell_type": "code",
   "execution_count": 99,
   "metadata": {},
   "outputs": [],
   "source": [
    "def plot_completion_response_distribution(data):\n",
    "    count_df = data[\"offer_completed\"].value_counts().reset_index()\n",
    "    response_label = list(count_df[\"offer_completed\"])\n",
    "    response_count = list(count_df[\"count\"])\n",
    "    plt.figure(figsize=(2, 2))\n",
    "    plt.pie(response_count, labels=response_label, autopct='%1.2f%%')\n",
    "    plt.show()"
   ]
  },
  {
   "cell_type": "code",
   "execution_count": 100,
   "metadata": {},
   "outputs": [
    {
     "data": {
      "image/png": "[encoded data removed]",
      "text/plain": [
       "<Figure size 200x200 with 1 Axes>"
      ]
     },
     "metadata": {},
     "output_type": "display_data"
    }
   ],
   "source": [
    "# Overall distribution of response variable in full_data_rm_info\n",
    "plot_completion_response_distribution(full_data_rm_info)"
   ]
  },
  {
   "cell_type": "code",
   "execution_count": 101,
   "metadata": {},
   "outputs": [
    {
     "name": "stdout",
     "output_type": "stream",
     "text": [
      "Num. records excluded (1st week data):  8828\n",
      "Num. records in filtered dataset:  44373\n"
     ]
    },
    {
     "data": {
      "image/png": "[encoded data removed]",
      "text/plain": [
       "<Figure size 200x200 with 1 Axes>"
      ]
     },
     "metadata": {},
     "output_type": "display_data"
    }
   ],
   "source": [
    "# Exclude data from 1st week\n",
    "first_wk_data = full_data_rm_info[full_data_rm_info [\"received_time\"] < (24*7)]\n",
    "print(\"Num. records excluded (1st week data): \", len(first_wk_data))\n",
    "data = full_data_rm_info[full_data_rm_info[\"received_time\"] >= (24*7)].reset_index(drop=True)\n",
    "print(\"Num. records in filtered dataset: \", len(data))\n",
    "# Check distribution of response variable in data after 1st week removal\n",
    "plot_completion_response_distribution(data)"
   ]
  },
  {
   "cell_type": "code",
   "execution_count": 102,
   "metadata": {},
   "outputs": [
    {
     "data": {
      "text/html": [
       "<div>\n",
       "<style scoped>\n",
       "    .dataframe tbody tr th:only-of-type {\n",
       "        vertical-align: middle;\n",
       "    }\n",
       "\n",
       "    .dataframe tbody tr th {\n",
       "        vertical-align: top;\n",
       "    }\n",
       "\n",
       "    .dataframe thead th {\n",
       "        text-align: right;\n",
       "    }\n",
       "</style>\n",
       "<table border=\"1\" class=\"dataframe\">\n",
       "  <thead>\n",
       "    <tr style=\"text-align: right;\">\n",
       "      <th></th>\n",
       "      <th>age</th>\n",
       "      <th>income_k</th>\n",
       "      <th>reward</th>\n",
       "      <th>difficulty</th>\n",
       "      <th>duration</th>\n",
       "      <th>num_channels</th>\n",
       "      <th>used_email</th>\n",
       "      <th>used_web</th>\n",
       "      <th>used_social</th>\n",
       "      <th>used_mobile</th>\n",
       "      <th>offer_viewed</th>\n",
       "      <th>received_time</th>\n",
       "      <th>time_since_last_txn</th>\n",
       "      <th>last_txn_amt</th>\n",
       "      <th>ave_txn_amt</th>\n",
       "      <th>num_txn_past_week</th>\n",
       "      <th>num_offers_past_week</th>\n",
       "    </tr>\n",
       "    <tr>\n",
       "      <th>offer_completed</th>\n",
       "      <th></th>\n",
       "      <th></th>\n",
       "      <th></th>\n",
       "      <th></th>\n",
       "      <th></th>\n",
       "      <th></th>\n",
       "      <th></th>\n",
       "      <th></th>\n",
       "      <th></th>\n",
       "      <th></th>\n",
       "      <th></th>\n",
       "      <th></th>\n",
       "      <th></th>\n",
       "      <th></th>\n",
       "      <th></th>\n",
       "      <th></th>\n",
       "      <th></th>\n",
       "    </tr>\n",
       "  </thead>\n",
       "  <tbody>\n",
       "    <tr>\n",
       "      <th>0</th>\n",
       "      <td>51.84</td>\n",
       "      <td>58.69</td>\n",
       "      <td>5.72</td>\n",
       "      <td>10.18</td>\n",
       "      <td>7.17</td>\n",
       "      <td>3.28</td>\n",
       "      <td>1.0</td>\n",
       "      <td>0.86</td>\n",
       "      <td>0.59</td>\n",
       "      <td>0.84</td>\n",
       "      <td>0.65</td>\n",
       "      <td>398.94</td>\n",
       "      <td>8.11</td>\n",
       "      <td>7.46</td>\n",
       "      <td>7.34</td>\n",
       "      <td>1.70</td>\n",
       "      <td>1.05</td>\n",
       "    </tr>\n",
       "    <tr>\n",
       "      <th>1</th>\n",
       "      <td>55.87</td>\n",
       "      <td>69.47</td>\n",
       "      <td>4.96</td>\n",
       "      <td>9.30</td>\n",
       "      <td>7.31</td>\n",
       "      <td>3.43</td>\n",
       "      <td>1.0</td>\n",
       "      <td>0.89</td>\n",
       "      <td>0.64</td>\n",
       "      <td>0.90</td>\n",
       "      <td>0.81</td>\n",
       "      <td>398.56</td>\n",
       "      <td>5.11</td>\n",
       "      <td>16.67</td>\n",
       "      <td>16.63</td>\n",
       "      <td>2.21</td>\n",
       "      <td>1.05</td>\n",
       "    </tr>\n",
       "  </tbody>\n",
       "</table>\n",
       "</div>"
      ],
      "text/plain": [
       "                   age  income_k  reward  difficulty  duration  num_channels  \\\n",
       "offer_completed                                                                \n",
       "0                51.84     58.69    5.72       10.18      7.17          3.28   \n",
       "1                55.87     69.47    4.96        9.30      7.31          3.43   \n",
       "\n",
       "                 used_email  used_web  used_social  used_mobile  offer_viewed  \\\n",
       "offer_completed                                                                 \n",
       "0                       1.0      0.86         0.59         0.84          0.65   \n",
       "1                       1.0      0.89         0.64         0.90          0.81   \n",
       "\n",
       "                 received_time  time_since_last_txn  last_txn_amt  \\\n",
       "offer_completed                                                     \n",
       "0                       398.94                 8.11          7.46   \n",
       "1                       398.56                 5.11         16.67   \n",
       "\n",
       "                 ave_txn_amt  num_txn_past_week  num_offers_past_week  \n",
       "offer_completed                                                        \n",
       "0                       7.34               1.70                  1.05  \n",
       "1                      16.63               2.21                  1.05  "
      ]
     },
     "execution_count": 102,
     "metadata": {},
     "output_type": "execute_result"
    }
   ],
   "source": [
    "check_num_cols_mean(data)"
   ]
  },
  {
   "cell_type": "code",
   "execution_count": 103,
   "metadata": {},
   "outputs": [
    {
     "data": {
      "image/png": "[encoded data removed]",
      "text/plain": [
       "<Figure size 600x400 with 1 Axes>"
      ]
     },
     "metadata": {},
     "output_type": "display_data"
    },
    {
     "data": {
      "image/png": "[encoded data removed]",
      "text/plain": [
       "<Figure size 600x400 with 1 Axes>"
      ]
     },
     "metadata": {},
     "output_type": "display_data"
    }
   ],
   "source": [
    "check_cat_cols_distribution(data)"
   ]
  },
  {
   "cell_type": "code",
   "execution_count": 104,
   "metadata": {},
   "outputs": [],
   "source": [
    "# Train-test-split\n",
    "training_data = data.copy()\n",
    "response_var = training_data.pop(\"offer_completed\")\n",
    "X_train, X_test, y_train, y_test = train_test_split(training_data, response_var, test_size=0.2, random_state=45)"
   ]
  },
  {
   "cell_type": "code",
   "execution_count": 105,
   "metadata": {},
   "outputs": [
    {
     "name": "stdout",
     "output_type": "stream",
     "text": [
      "Num. records (train):  35498\n"
     ]
    },
    {
     "data": {
      "image/png": "[encoded data removed]",
      "text/plain": [
       "<Figure size 200x200 with 1 Axes>"
      ]
     },
     "metadata": {},
     "output_type": "display_data"
    },
    {
     "name": "stdout",
     "output_type": "stream",
     "text": [
      "\n",
      "Num. records (test):  8875\n"
     ]
    },
    {
     "data": {
      "image/png": "[encoded data removed]",
      "text/plain": [
       "<Figure size 200x200 with 1 Axes>"
      ]
     },
     "metadata": {},
     "output_type": "display_data"
    }
   ],
   "source": [
    "# Check distribution of response variable (train dataset)\n",
    "print(\"Num. records (train): \", len(y_train))\n",
    "plot_completion_response_distribution(y_train.reset_index(name=\"offer_completed\"))\n",
    "\n",
    "# Check distribution of response variable (test dataset)\n",
    "print(\"\\nNum. records (test): \", len(y_test))\n",
    "plot_completion_response_distribution(y_test.reset_index(name=\"offer_completed\"))"
   ]
  },
  {
   "cell_type": "markdown",
   "metadata": {},
   "source": [
    "#### Logistic Regression (predict offer completion)"
   ]
  },
  {
   "cell_type": "markdown",
   "metadata": {},
   "source": [
    "- Independent variables should be independent of each other --> avoid multicollinearity\n",
    "- Independent variables are linearly related of the log odds of customer acting on offer"
   ]
  },
  {
   "cell_type": "code",
   "execution_count": 106,
   "metadata": {},
   "outputs": [],
   "source": [
    "# Remove columns not needed (person, offer_id, received_time)\n",
    "X_train = X_train.drop(columns=[\"person\", \"offer_id\", \"received_time\"])\n",
    "X_test= X_test.drop(columns=[\"person\", \"offer_id\", \"received_time\"])\n",
    "\n",
    "# Convert categorical variables to numeric form using one-hot encoding (regression requires all variables to be numeric)\n",
    "# Drop 1 level of dummmy variable to avoid perfect multicollinearity\n",
    "X_train = pd.concat([X_train, pd.get_dummies(X_train[\"gender\"], prefix=\"is\", dtype=int, drop_first=True)], axis=1)\n",
    "X_train = pd.concat([X_train, pd.get_dummies(X_train[\"offer_type\"], prefix=\"is\", dtype=int, drop_first=True)], axis=1)\n",
    "\n",
    "X_test = pd.concat([X_test, pd.get_dummies(X_test[\"gender\"], prefix=\"is\", dtype=int)], axis=1)\n",
    "X_test = pd.concat([X_train, pd.get_dummies(X_test[\"offer_type\"], prefix=\"is\", dtype=int)], axis=1)\n",
    "\n",
    "# Drop original categorical variables\n",
    "X_train = X_train.drop(columns=[\"gender\", \"offer_type\"])\n",
    "X_test = X_test.drop(columns=[\"gender\", \"offer_type\"])\n",
    "\n",
    "# Drop num_channels variable due to perfect multicollinearity\n",
    "# num_channels = used_email + used_web + used_social + used_mobile\n",
    "X_train = X_train.drop(columns=[\"num_channels\"])\n",
    "X_test = X_test.drop(columns=[\"num_channels\"])\n",
    "\n",
    "# X_train.info()"
   ]
  },
  {
   "cell_type": "code",
   "execution_count": 107,
   "metadata": {},
   "outputs": [
    {
     "name": "stdout",
     "output_type": "stream",
     "text": [
      "Optimization terminated successfully.\n",
      "         Current function value: 0.541146\n",
      "         Iterations 7\n",
      "                           Results: Logit\n",
      "=====================================================================\n",
      "Model:                Logit             Pseudo R-squared:  0.185     \n",
      "Dependent Variable:   offer_completed   AIC:               38455.1759\n",
      "Date:                 2024-04-18 18:44  BIC:               38607.7661\n",
      "No. Observations:     35498             Log-Likelihood:    -19210.   \n",
      "Df Model:             17                LL-Null:           -23560.   \n",
      "Df Residuals:         35480             LLR p-value:       0.0000    \n",
      "Converged:            1.0000            Scale:             1.0000    \n",
      "No. Iterations:       7.0000                                         \n",
      "---------------------------------------------------------------------\n",
      "                      Coef.  Std.Err.    z     P>|z|   [0.025  0.975]\n",
      "---------------------------------------------------------------------\n",
      "age                   0.0027   0.0007   3.6334 0.0003  0.0012  0.0041\n",
      "income_k              0.0071   0.0008   8.6265 0.0000  0.0054  0.0087\n",
      "reward                0.0354   0.0171   2.0727 0.0382  0.0019  0.0689\n",
      "difficulty           -0.1558   0.0132 -11.8420 0.0000 -0.1816 -0.1300\n",
      "duration              0.1760   0.0144  12.2588 0.0000  0.1478  0.2041\n",
      "used_email           -1.3572   0.2181  -6.2224 0.0000 -1.7847 -0.9297\n",
      "used_web              0.0231   0.0556   0.4152 0.6780 -0.0859  0.1321\n",
      "used_social          -0.1693   0.0401  -4.2190 0.0000 -0.2479 -0.0906\n",
      "used_mobile          -0.5648   0.1099  -5.1369 0.0000 -0.7803 -0.3493\n",
      "offer_viewed          0.9321   0.0350  26.6635 0.0000  0.8636  1.0006\n",
      "time_since_last_txn   0.0111   0.0019   5.8011 0.0000  0.0073  0.0148\n",
      "last_txn_amt         -0.0080   0.0015  -5.5316 0.0000 -0.0109 -0.0052\n",
      "ave_txn_amt           0.0884   0.0027  32.6410 0.0000  0.0831  0.0937\n",
      "num_txn_past_week     0.2131   0.0085  25.1212 0.0000  0.1965  0.2298\n",
      "num_offers_past_week -0.2188   0.0204 -10.7479 0.0000 -0.2587 -0.1789\n",
      "is_M                 -0.4676   0.0266 -17.5481 0.0000 -0.5198 -0.4154\n",
      "is_O                 -0.0121   0.1144  -0.1060 0.9156 -0.2364  0.2122\n",
      "is_discount           0.6941   0.0948   7.3250 0.0000  0.5084  0.8798\n",
      "=====================================================================\n",
      "\n"
     ]
    }
   ],
   "source": [
    "# Obtain regression results\n",
    "logit_model = sm.Logit(endog=y_train, exog=X_train)\n",
    "logit_model_results = logit_model.fit()\n",
    "print(logit_model_results.summary2())"
   ]
  },
  {
   "cell_type": "code",
   "execution_count": 108,
   "metadata": {},
   "outputs": [],
   "source": [
    "# Perform Recursive Feature Elimination (RFE)\n",
    "# rfe = RFE(log_reg_model, 20)\n",
    "# rfe = rfe.fit(os_data_X, os_data_y.values.ravel())\n",
    "# print(rfe.support_)\n",
    "# print(rfe.ranking_)\n",
    "\n",
    "# Get model performance metrics\n",
    "# log_reg_model = LogisticRegression(random_state=45)\n",
    "# log_reg_model.fit(X_train, y_train)"
   ]
  }
 ],
 "metadata": {
  "kernelspec": {
   "display_name": "base",
   "language": "python",
   "name": "python3"
  },
  "language_info": {
   "codemirror_mode": {
    "name": "ipython",
    "version": 3
   },
   "file_extension": ".py",
   "mimetype": "text/x-python",
   "name": "python",
   "nbconvert_exporter": "python",
   "pygments_lexer": "ipython3",
   "version": "3.10.9"
  }
 },
 "nbformat": 4,
 "nbformat_minor": 2
}
